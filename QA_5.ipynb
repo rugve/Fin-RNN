{
 "cells": [
  {
   "cell_type": "markdown",
   "metadata": {},
   "source": [
    "# Implementing a 5-Qubit Quantum Fourier Transform (QFT)\n",
    "\n",
    "The Quantum Fourier Transform (QFT) is a key operation in quantum computing, playing a central role in several quantum algorithms, such as Shor's algorithm for integer factorization and quantum phase estimation. The QFT transforms the amplitudes of a quantum state, changing its basis and making certain computations more efficient than classical methods.\n",
    "\n",
    "## Steps to Perform a 5-Qubit Quantum Fourier Transform:\n",
    "\n",
    "1. **Initial State**:\n",
    "   - Begin with a 5-qubit quantum register initialized in the computational basis state \\( |0\\rangle \\). This means all qubits are initially in the state \\( |00000\\rangle \\).\n",
    "   $$\n",
    "   |00000\\rangle\n",
    "   $$\n",
    "\n",
    "2. **Apply Hadamard Gates**:\n",
    "   - Apply a Hadamard gate to each qubit. The Hadamard gate creates a superposition of the basis states:\n",
    "   $$\n",
    "   (H \\otimes H \\otimes H \\otimes H \\otimes H) |00000\\rangle = \\frac{1}{\\sqrt{32}} \\sum_{x=0}^{31} |x\\rangle\n",
    "   $$\n",
    "   - The summation over \\( x \\) represents all possible 5-bit binary states, creating a superposition of all 32 basis states.\n",
    "\n",
    "3. **Apply Controlled Phase Rotations**:\n",
    "   - Apply controlled-phase rotations to introduce quantum interference, which is a crucial step for the Fourier transformation. These controlled rotations are defined as follows:\n",
    "     - **C-R1**: Rotate qubit 1 by \\( \\frac{\\pi}{2} \\)\n",
    "     - **C-R2**: Rotate qubit 2 by \\( \\frac{\\pi}{4} \\)\n",
    "     - **C-R3**: Rotate qubit 3 by \\( \\frac{\\pi}{8} \\)\n",
    "     - **C-R4**: Rotate qubit 4 by \\( \\frac{\\pi}{16} \\)\n",
    "   - These rotations help to transform the quantum state in a way that mimics the behavior of a discrete Fourier transform.\n",
    "\n",
    "4. **Swap Qubits**:\n",
    "   - Perform swap operations to rearrange the qubits into the correct order. The QFT algorithm requires the qubits to be in a specific order to achieve the correct output state.\n",
    "   - Swap gates ensure that the qubits are positioned in the correct order after the rotations.\n",
    "\n",
    "5. **Measurement**:\n",
    "   - Measure each qubit to collapse the quantum state into classical bit strings. The results of the measurements represent the amplitudes in the new basis, corresponding to the Fourier-transformed values of the input state.\n",
    "   - The probability distribution of the measurement outcomes should ideally match the QFT of the original state.\n",
    "\n",
    "   **Important Note**: Implementing the QFT on real quantum hardware can be challenging due to errors and noise. Practical implementations often require error correction techniques and careful calibration of quantum gates.\n",
    "\n",
    "---\n",
    "\n",
    "## Implementation Steps:\n",
    "\n",
    "1. **Import the Necessary Libraries**:\n",
    "   - First, we import the required libraries for quantum circuit creation and execution.\n",
    "\n",
    "2. **Create the Quantum Circuit**:\n",
    "   - Next, we create a quantum circuit with 5 qubits and corresponding classical registers for measurement.\n",
    "\n",
    "3. **Apply the Hadamard Gates**:\n",
    "   - Apply Hadamard gates to each qubit in the circuit to create a superposition.\n",
    "\n",
    "4. **Apply Controlled Phase Shift Gates (QFT)**:\n",
    "   - Apply the controlled phase shifts and the QFT operation to the qubits.\n",
    "\n",
    "5. **Measure the Qubits**:\n",
    "   - Finally, measure the qubits to get the output in classical bit strings.\n"
   ]
  },
  {
   "cell_type": "code",
   "execution_count": 1,
   "metadata": {
    "colab": {
     "base_uri": "https://localhost:8080/"
    },
    "collapsed": true,
    "id": "InxVmKKNZ-r3",
    "jupyter": {
     "outputs_hidden": true
    },
    "outputId": "3c6ab35c-5275-48a1-bd2d-5b3191a13a88"
   },
   "outputs": [
    {
     "name": "stdout",
     "output_type": "stream",
     "text": [
      "Requirement already satisfied: qiskit in ./.venv/lib/python3.12/site-packages (1.2.4)\n",
      "Requirement already satisfied: rustworkx>=0.15.0 in ./.venv/lib/python3.12/site-packages (from qiskit) (0.15.1)\n",
      "Requirement already satisfied: numpy<3,>=1.17 in ./.venv/lib/python3.12/site-packages (from qiskit) (2.1.3)\n",
      "Requirement already satisfied: scipy>=1.5 in ./.venv/lib/python3.12/site-packages (from qiskit) (1.14.1)\n",
      "Requirement already satisfied: sympy>=1.3 in ./.venv/lib/python3.12/site-packages (from qiskit) (1.13.3)\n",
      "Requirement already satisfied: dill>=0.3 in ./.venv/lib/python3.12/site-packages (from qiskit) (0.3.9)\n",
      "Requirement already satisfied: python-dateutil>=2.8.0 in ./.venv/lib/python3.12/site-packages (from qiskit) (2.9.0.post0)\n",
      "Requirement already satisfied: stevedore>=3.0.0 in ./.venv/lib/python3.12/site-packages (from qiskit) (5.3.0)\n",
      "Requirement already satisfied: typing-extensions in ./.venv/lib/python3.12/site-packages (from qiskit) (4.12.2)\n",
      "Requirement already satisfied: symengine<0.14,>=0.11 in ./.venv/lib/python3.12/site-packages (from qiskit) (0.13.0)\n",
      "Requirement already satisfied: six>=1.5 in ./.venv/lib/python3.12/site-packages (from python-dateutil>=2.8.0->qiskit) (1.16.0)\n",
      "Requirement already satisfied: pbr>=2.0.0 in ./.venv/lib/python3.12/site-packages (from stevedore>=3.0.0->qiskit) (6.1.0)\n",
      "Requirement already satisfied: mpmath<1.4,>=1.1.0 in ./.venv/lib/python3.12/site-packages (from sympy>=1.3->qiskit) (1.3.0)\n",
      "\n",
      "\u001b[1m[\u001b[0m\u001b[34;49mnotice\u001b[0m\u001b[1;39;49m]\u001b[0m\u001b[39;49m A new release of pip is available: \u001b[0m\u001b[31;49m24.2\u001b[0m\u001b[39;49m -> \u001b[0m\u001b[32;49m24.3.1\u001b[0m\n",
      "\u001b[1m[\u001b[0m\u001b[34;49mnotice\u001b[0m\u001b[1;39;49m]\u001b[0m\u001b[39;49m To update, run: \u001b[0m\u001b[32;49mpip install --upgrade pip\u001b[0m\n"
     ]
    }
   ],
   "source": [
    "!pip install qiskit"
   ]
  },
  {
   "cell_type": "code",
   "execution_count": 2,
   "metadata": {
    "colab": {
     "base_uri": "https://localhost:8080/"
    },
    "collapsed": true,
    "id": "R7CMIHUfZ_q2",
    "jupyter": {
     "outputs_hidden": true
    },
    "outputId": "57edbaee-eae9-4847-cb2a-2e756eac1d03"
   },
   "outputs": [
    {
     "name": "stdout",
     "output_type": "stream",
     "text": [
      "Requirement already satisfied: qiskit-aer in ./.venv/lib/python3.12/site-packages (0.15.1)\n",
      "Requirement already satisfied: qiskit>=1.1.0 in ./.venv/lib/python3.12/site-packages (from qiskit-aer) (1.2.4)\n",
      "Requirement already satisfied: numpy>=1.16.3 in ./.venv/lib/python3.12/site-packages (from qiskit-aer) (2.1.3)\n",
      "Requirement already satisfied: scipy>=1.0 in ./.venv/lib/python3.12/site-packages (from qiskit-aer) (1.14.1)\n",
      "Requirement already satisfied: psutil>=5 in ./.venv/lib/python3.12/site-packages (from qiskit-aer) (6.1.0)\n",
      "Requirement already satisfied: rustworkx>=0.15.0 in ./.venv/lib/python3.12/site-packages (from qiskit>=1.1.0->qiskit-aer) (0.15.1)\n",
      "Requirement already satisfied: sympy>=1.3 in ./.venv/lib/python3.12/site-packages (from qiskit>=1.1.0->qiskit-aer) (1.13.3)\n",
      "Requirement already satisfied: dill>=0.3 in ./.venv/lib/python3.12/site-packages (from qiskit>=1.1.0->qiskit-aer) (0.3.9)\n",
      "Requirement already satisfied: python-dateutil>=2.8.0 in ./.venv/lib/python3.12/site-packages (from qiskit>=1.1.0->qiskit-aer) (2.9.0.post0)\n",
      "Requirement already satisfied: stevedore>=3.0.0 in ./.venv/lib/python3.12/site-packages (from qiskit>=1.1.0->qiskit-aer) (5.3.0)\n",
      "Requirement already satisfied: typing-extensions in ./.venv/lib/python3.12/site-packages (from qiskit>=1.1.0->qiskit-aer) (4.12.2)\n",
      "Requirement already satisfied: symengine<0.14,>=0.11 in ./.venv/lib/python3.12/site-packages (from qiskit>=1.1.0->qiskit-aer) (0.13.0)\n",
      "Requirement already satisfied: six>=1.5 in ./.venv/lib/python3.12/site-packages (from python-dateutil>=2.8.0->qiskit>=1.1.0->qiskit-aer) (1.16.0)\n",
      "Requirement already satisfied: pbr>=2.0.0 in ./.venv/lib/python3.12/site-packages (from stevedore>=3.0.0->qiskit>=1.1.0->qiskit-aer) (6.1.0)\n",
      "Requirement already satisfied: mpmath<1.4,>=1.1.0 in ./.venv/lib/python3.12/site-packages (from sympy>=1.3->qiskit>=1.1.0->qiskit-aer) (1.3.0)\n",
      "\n",
      "\u001b[1m[\u001b[0m\u001b[34;49mnotice\u001b[0m\u001b[1;39;49m]\u001b[0m\u001b[39;49m A new release of pip is available: \u001b[0m\u001b[31;49m24.2\u001b[0m\u001b[39;49m -> \u001b[0m\u001b[32;49m24.3.1\u001b[0m\n",
      "\u001b[1m[\u001b[0m\u001b[34;49mnotice\u001b[0m\u001b[1;39;49m]\u001b[0m\u001b[39;49m To update, run: \u001b[0m\u001b[32;49mpip install --upgrade pip\u001b[0m\n"
     ]
    }
   ],
   "source": [
    "!pip install qiskit-aer"
   ]
  },
  {
   "cell_type": "code",
   "execution_count": 3,
   "metadata": {
    "colab": {
     "base_uri": "https://localhost:8080/"
    },
    "collapsed": true,
    "id": "EbKQSiPtafl0",
    "jupyter": {
     "outputs_hidden": true
    },
    "outputId": "3b93a1e6-627a-44c6-f397-85c9fc6ce984"
   },
   "outputs": [
    {
     "name": "stdout",
     "output_type": "stream",
     "text": [
      "Requirement already satisfied: pylatexenc in ./.venv/lib/python3.12/site-packages (2.10)\n",
      "\n",
      "\u001b[1m[\u001b[0m\u001b[34;49mnotice\u001b[0m\u001b[1;39;49m]\u001b[0m\u001b[39;49m A new release of pip is available: \u001b[0m\u001b[31;49m24.2\u001b[0m\u001b[39;49m -> \u001b[0m\u001b[32;49m24.3.1\u001b[0m\n",
      "\u001b[1m[\u001b[0m\u001b[34;49mnotice\u001b[0m\u001b[1;39;49m]\u001b[0m\u001b[39;49m To update, run: \u001b[0m\u001b[32;49mpip install --upgrade pip\u001b[0m\n"
     ]
    }
   ],
   "source": [
    "!pip install pylatexenc"
   ]
  },
  {
   "cell_type": "code",
   "execution_count": 4,
   "metadata": {
    "colab": {
     "base_uri": "https://localhost:8080/"
    },
    "id": "rtMONX0Vb0O1",
    "outputId": "450f3a8c-9b47-4dc2-9a21-1cd82011bcb2"
   },
   "outputs": [
    {
     "name": "stdout",
     "output_type": "stream",
     "text": [
      "Requirement already satisfied: pylatexenc in ./.venv/lib/python3.12/site-packages (2.10)\n",
      "\n",
      "\u001b[1m[\u001b[0m\u001b[34;49mnotice\u001b[0m\u001b[1;39;49m]\u001b[0m\u001b[39;49m A new release of pip is available: \u001b[0m\u001b[31;49m24.2\u001b[0m\u001b[39;49m -> \u001b[0m\u001b[32;49m24.3.1\u001b[0m\n",
      "\u001b[1m[\u001b[0m\u001b[34;49mnotice\u001b[0m\u001b[1;39;49m]\u001b[0m\u001b[39;49m To update, run: \u001b[0m\u001b[32;49mpip install --upgrade pip\u001b[0m\n"
     ]
    }
   ],
   "source": [
    "!pip install pylatexenc"
   ]
  },
  {
   "cell_type": "code",
   "execution_count": 5,
   "metadata": {
    "colab": {
     "base_uri": "https://localhost:8080/"
    },
    "id": "bpMFJENTaQeP",
    "outputId": "20e9edd0-d866-4c6b-cacb-1dcdbad6d59d"
   },
   "outputs": [
    {
     "name": "stdout",
     "output_type": "stream",
     "text": [
      "     ┌───┐┌──────┐┌─┐            \n",
      "q_0: ┤ X ├┤0     ├┤M├────────────\n",
      "     └───┘│      │└╥┘┌─┐         \n",
      "q_1: ─────┤1     ├─╫─┤M├─────────\n",
      "     ┌───┐│      │ ║ └╥┘┌─┐      \n",
      "q_2: ┤ X ├┤2 qft ├─╫──╫─┤M├──────\n",
      "     └───┘│      │ ║  ║ └╥┘┌─┐   \n",
      "q_3: ─────┤3     ├─╫──╫──╫─┤M├───\n",
      "     ┌───┐│      │ ║  ║  ║ └╥┘┌─┐\n",
      "q_4: ┤ X ├┤4     ├─╫──╫──╫──╫─┤M├\n",
      "     └───┘└──────┘ ║  ║  ║  ║ └╥┘\n",
      "c: 5/══════════════╩══╩══╩══╩══╩═\n",
      "                   0  1  2  3  4 \n",
      "\n",
      "QFT Output\n",
      "-------------\n",
      "{'00011': 26, '01111': 26, '10011': 26, '11100': 36, '10010': 34, '10101': 31, '11110': 31, '01001': 28, '00101': 29, '10001': 34, '11010': 31, '00001': 30, '00110': 16, '00010': 32, '11101': 38, '10111': 28, '10100': 36, '10000': 40, '11011': 37, '11111': 36, '11000': 29, '01000': 34, '01100': 31, '11001': 38, '00000': 25, '01110': 35, '00111': 31, '01011': 34, '01010': 33, '10110': 35, '01101': 28, '00100': 22}\n",
      "     ┌───┐┌──────────────┐┌─┐            \n",
      "q_0: ┤ X ├┤0             ├┤M├────────────\n",
      "     └───┘│              │└╥┘┌─┐         \n",
      "q_1: ─────┤1             ├─╫─┤M├─────────\n",
      "     ┌───┐│              │ ║ └╥┘┌─┐      \n",
      "q_2: ┤ X ├┤2 inverse_qft ├─╫──╫─┤M├──────\n",
      "     └───┘│              │ ║  ║ └╥┘┌─┐   \n",
      "q_3: ─────┤3             ├─╫──╫──╫─┤M├───\n",
      "     ┌───┐│              │ ║  ║  ║ └╥┘┌─┐\n",
      "q_4: ┤ X ├┤4             ├─╫──╫──╫──╫─┤M├\n",
      "     └───┘└──────────────┘ ║  ║  ║  ║ └╥┘\n",
      "c: 5/══════════════════════╩══╩══╩══╩══╩═\n",
      "                           0  1  2  3  4 \n",
      "\n",
      "QFT with inverse QFT Output\n",
      "------------------------------\n",
      "{'01001': 30, '01111': 40, '10000': 38, '10001': 26, '00101': 31, '11010': 24, '10110': 25, '11100': 32, '10101': 38, '10010': 20, '00110': 31, '00001': 23, '00111': 30, '00011': 42, '10111': 33, '10100': 34, '11001': 21, '00000': 43, '00010': 34, '11110': 35, '01010': 33, '11101': 36, '01101': 38, '11000': 23, '11011': 27, '11111': 24, '10011': 37, '01110': 24, '01011': 31, '00100': 30, '01000': 31, '01100': 36}\n"
     ]
    }
   ],
   "source": [
    "from qiskit import QuantumRegister, ClassicalRegister, QuantumCircuit, transpile\n",
    "from qiskit_aer import Aer  # Corrected import for Aer simulator\n",
    "from qiskit.circuit.library import QFT\n",
    "import numpy as np\n",
    "\n",
    "# Use Aer simulator backend\n",
    "backend = Aer.get_backend('qasm_simulator')\n",
    "\n",
    "# Define pi constant\n",
    "pi = np.pi\n",
    "\n",
    "# Create Quantum and Classical Registers\n",
    "q = QuantumRegister(5, 'q')\n",
    "c = ClassicalRegister(5, 'c')\n",
    "\n",
    "# Create Quantum Circuit\n",
    "circuit = QuantumCircuit(q, c)\n",
    "\n",
    "# Apply some X gates\n",
    "circuit.x(q[4])\n",
    "circuit.x(q[2])\n",
    "circuit.x(q[0])\n",
    "\n",
    "# Apply Quantum Fourier Transform (QFT)\n",
    "circuit.append(QFT(num_qubits=5, approximation_degree=0, do_swaps=True, inverse=False, insert_barriers=False, name='qft'), q)\n",
    "\n",
    "# Measure the quantum register\n",
    "circuit.measure(q, c)\n",
    "\n",
    "# Draw the circuit\n",
    "circuit.draw(output='mpl', filename='qft1.png')\n",
    "\n",
    "print(circuit)\n",
    "\n",
    "# Transpile the circuit for the Aer backend\n",
    "transpiled_circuit = transpile(circuit, backend)\n",
    "\n",
    "# Execute the circuit\n",
    "job = backend.run(transpiled_circuit, shots=1000)\n",
    "\n",
    "# Get the results\n",
    "result = job.result()\n",
    "counts = result.get_counts()\n",
    "\n",
    "# Display the QFT output\n",
    "print(\"\\nQFT Output\")\n",
    "print(\"-------------\")\n",
    "print(counts)\n",
    "\n",
    "# Second Circuit: Apply Inverse QFT\n",
    "q = QuantumRegister(5, 'q')\n",
    "c = ClassicalRegister(5, 'c')\n",
    "\n",
    "circuit = QuantumCircuit(q, c)\n",
    "\n",
    "# Apply the same X gates as before\n",
    "circuit.x(q[4])\n",
    "circuit.x(q[2])\n",
    "circuit.x(q[0])\n",
    "\n",
    "# Apply Quantum Fourier Transform (QFT)\n",
    "circuit.append(QFT(num_qubits=5, approximation_degree=0, do_swaps=True, inverse=True, insert_barriers=False, name='inverse_qft'), q)\n",
    "\n",
    "# Measure the quantum register\n",
    "circuit.measure(q, c)\n",
    "\n",
    "# Draw the second circuit\n",
    "circuit.draw(output='mpl', filename='qft2.png')\n",
    "\n",
    "print(circuit)\n",
    "\n",
    "# Transpile the second circuit for the Aer backend\n",
    "transpiled_circuit = transpile(circuit, backend)\n",
    "\n",
    "# Execute the second circuit\n",
    "job = backend.run(transpiled_circuit, shots=1000)\n",
    "\n",
    "# Get the results for the second job\n",
    "result = job.result()\n",
    "counts = result.get_counts()\n",
    "\n",
    "# Display the QFT with inverse QFT output\n",
    "print(\"\\nQFT with inverse QFT Output\")\n",
    "print(\"------------------------------\")\n",
    "print(counts)\n"
   ]
  },
  {
   "cell_type": "code",
   "execution_count": 5,
   "metadata": {
    "id": "AcMPNTM3bHeA"
   },
   "outputs": [],
   "source": []
  }
 ],
 "metadata": {
  "colab": {
   "provenance": []
  },
  "kernelspec": {
   "display_name": "Python 3 (ipykernel)",
   "language": "python",
   "name": "python3"
  },
  "language_info": {
   "codemirror_mode": {
    "name": "ipython",
    "version": 3
   },
   "file_extension": ".py",
   "mimetype": "text/x-python",
   "name": "python",
   "nbconvert_exporter": "python",
   "pygments_lexer": "ipython3",
   "version": "3.11.7"
  }
 },
 "nbformat": 4,
 "nbformat_minor": 4
}
