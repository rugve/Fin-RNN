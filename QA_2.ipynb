{
 "cells": [
  {
   "cell_type": "markdown",
   "metadata": {},
   "source": [
    "# Tackle Noise Error Correction \n",
    "------------\n",
    "- Tackling noise with error correction is a crucial concept in quantum computing to ensure the reliability and accuracy of quantum computations. Here's a brief description:\n",
    "- In a quantum computer, quantum bits (qubits) are susceptible to errors due to external factors like temperature\n",
    "fluctuations or electromagnetic interference. These errors can disrupt the delicate quantum states required for\n",
    "computation. Error correction involves using additional qubits and quantum operations to detect and rectify\n",
    "errors, maintaining the integrity of quantum information.\n",
    "- Quantum error correction codes encode the logical qubits across multiple physical qubits in a way that allows\n",
    "errors to be detected and corrected without directly measuring the quantum state. This is achieved through\n",
    "carefully designed quantum gates that manipulate the qubits and enable error detection. If an error is detected,\n",
    "the information can be recovered through quantum operations, ensuring the correct outcome of the\n",
    "computation.\n",
    "- Error correction techniques, such as the surface code or the stabilizer codes, help extend the lifespan of\n",
    "quantum information and enable quantum computers to perform complex computations with high accuracy.\n",
    "- However, error correction comes at the cost of requiring additional qubits and more intricate quantum\n",
    "operations, which poses a challenge in terms of hardware and computational resources.\n",
    "- A brief description of how error correction helps tackle noise in quantum computing, presented in bullet points:\n",
    "\n",
    "1.**Error Vulnerability:** Quantum computers use delicate quantum states (qubits) that are sensitive to external\n",
    "factors, leading to errors in computations.\n",
    "\n",
    "2.**Quantum Error Correction:** Error correction is a technique to mitigate errors by encoding qubits across multiple\n",
    "physical qubits in a way that allows errors to be detected and corrected.\n",
    "\n",
    "3.**Error Detection:** Quantum error correction codes involve measuring specific properties of the encoded qubits\n",
    "without directly measuring the fragile quantum state.\n",
    "\n",
    "-------\n",
    "\n",
    "## Tackling noise with error correction in quantum computing offers several key advantages that are pivotal for the\n",
    "reliable and practical implementation of quantum technologies. \n",
    "Here are its advantages:\n",
    "- **Enhanced Reliability:** Error correction enables quantum computations to remain accurate and reliable even in\n",
    "the presence of noisy and error-prone quantum hardware.\n",
    "- **Extended Qubit Lifespan:** By actively identifying and correcting errors, error correction helps maintain the\n",
    "coherence and stability of quantum states, prolonging the effective lifespan of qubits.\n",
    "- **Higher-Quality Results:** The use of error correction ensures that the outcomes of quantum computations are\n",
    "closer to the desired results, minimizing the impact of errors on the final output.\n",
    "\n",
    "Steps\n",
    "1. Identify the noisy channel.\n",
    "2. Choose an error correction technique.\n",
    "3. Implement error detection and correction.\n",
    "4. Integrate into your system.\n",
    "5. Test and optimize.\n",
    "7. Monitor and maintain.\n",
    "\n",
    "-------"
   ]
  },
  {
   "cell_type": "code",
   "execution_count": 6,
   "metadata": {
    "id": "806vmWJw-QSW"
   },
   "outputs": [],
   "source": [
    "from qiskit import transpile, QuantumCircuit\n",
    "from qiskit_aer import Aer\n",
    "from qiskit_aer.noise import NoiseModel, ReadoutError\n",
    "from qiskit.visualization import plot_histogram"
   ]
  },
  {
   "cell_type": "code",
   "execution_count": 7,
   "metadata": {
    "id": "A0nOz7ZFAMOb"
   },
   "outputs": [],
   "source": [
    "# Define the quantum circuit\n",
    "qc = QuantumCircuit(3, 3)\n",
    "qc.h(0)\n",
    "qc.cx(0, 1)\n",
    "qc.cx(0, 2)\n",
    "qc.measure([0, 1, 2], [0, 1, 2])\n",
    "\n",
    "# Transpile the circuit\n",
    "backend = Aer.get_backend('qasm_simulator')\n",
    "transpiled_qc = transpile(qc, backend)"
   ]
  },
  {
   "cell_type": "code",
   "execution_count": 8,
   "metadata": {
    "id": "xRpczxfyAMAh"
   },
   "outputs": [],
   "source": [
    "# Defining and applying noise model\n",
    "noise_model = NoiseModel()\n",
    "readout_error = ReadoutError([[0.9, 0.1], [0.1, 0.9]])\n",
    "for qubit in range(3):\n",
    "    noise_model.add_readout_error(readout_error, [qubit])\n",
    "\n",
    "# Run the noisy simulation\n",
    "job = backend.run(transpiled_qc, shots=1000, noise_model=noise_model)\n",
    "result = job.result()\n",
    "counts = result.get_counts()"
   ]
  },
  {
   "cell_type": "code",
   "execution_count": 9,
   "metadata": {
    "id": "c4w6N2N7_ND9"
   },
   "outputs": [],
   "source": [
    "# Function to apply a correction matrix to counts (simplified)\n",
    "def apply_correction(counts, correction_matrix):\n",
    "    # Get the sorted list of keys\n",
    "    sorted_keys = sorted(counts.keys())\n",
    "\n",
    "    # Initializing corrected counts dictionary\n",
    "    corrected_counts = {key: 0 for key in sorted_keys}\n",
    "\n",
    "    # Calculate corrected counts using basic Python operations\n",
    "    for i, key in enumerate(sorted_keys):\n",
    "        for j, corrected_key in enumerate(sorted_keys):\n",
    "            if correction_matrix[i][j] != 0:\n",
    "                corrected_counts[corrected_key] += counts.get(key, 0) * correction_matrix[i][j]\n",
    "\n",
    "    return corrected_counts"
   ]
  },
  {
   "cell_type": "code",
   "execution_count": 10,
   "metadata": {
    "colab": {
     "base_uri": "https://localhost:8080/",
     "height": 482
    },
    "id": "6p4Y4EJwAa_Q",
    "outputId": "4dc609b1-25f7-4ade-f11d-5cb41bc0e2a2"
   },
   "outputs": [
    {
     "name": "stdout",
     "output_type": "stream",
     "text": [
      "Original Counts: {'111': 363, '011': 51, '001': 40, '100': 61, '110': 45, '101': 45, '010': 42, '000': 353}\n",
      "Mitigated Counts: {'000': 353, '001': 40, '010': 42, '011': 51, '100': 61, '101': 45, '110': 45, '111': 363}\n"
     ]
    },
    {
     "data": {
      "image/png": "[encoded data removed]",
      "text/plain": [
       "<Figure size 640x480 with 1 Axes>"
      ]
     },
     "execution_count": 10,
     "metadata": {},
     "output_type": "execute_result"
    }
   ],
   "source": [
    "# Example correction matrix (identity matrix for simplicity)\n",
    "correction_matrix = [[1 if i == j else 0 for j in range(len(counts.keys()))] for i in range(len(counts.keys()))]\n",
    "\n",
    "# Apply correction matrix\n",
    "mitigated_counts = apply_correction(counts, correction_matrix)\n",
    "\n",
    "# Print the original counts\n",
    "print(f\"Original Counts: {counts}\")\n",
    "\n",
    "# Print the mitigated counts\n",
    "print(f\"Mitigated Counts: {mitigated_counts}\")\n",
    "\n",
    "# Plot the histograms of the original and mitigated counts\n",
    "plot_histogram([counts, mitigated_counts], legend=['Original', 'Mitigated'])"
   ]
  },
  {
   "cell_type": "code",
   "execution_count": null,
   "metadata": {
    "id": "DpRVJ7HCCl3T"
   },
   "outputs": [],
   "source": []
  },
  {
   "cell_type": "code",
   "execution_count": null,
   "metadata": {},
   "outputs": [],
   "source": []
  }
 ],
 "metadata": {
  "colab": {
   "provenance": []
  },
  "kernelspec": {
   "display_name": "Python 3 (ipykernel)",
   "language": "python",
   "name": "python3"
  },
  "language_info": {
   "codemirror_mode": {
    "name": "ipython",
    "version": 3
   },
   "file_extension": ".py",
   "mimetype": "text/x-python",
   "name": "python",
   "nbconvert_exporter": "python",
   "pygments_lexer": "ipython3",
   "version": "3.11.7"
  }
 },
 "nbformat": 4,
 "nbformat_minor": 4
}
