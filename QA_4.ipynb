{
 "cells": [
  {
   "cell_type": "markdown",
   "metadata": {},
   "source": [
    "# The Randomized Benchmark Protocol \n",
    "------------\n",
    "\n",
    "- Randomized Benchmarking Protocol (RB) is a technique used in quantum information science to\n",
    "assess the quality of quantum gates and operations in a quantum computing system. Quantum gates are the\n",
    "fundamental building blocks of quantum circuits, and their accurate implementation is crucial for the reliable\n",
    "execution of quantum algorithms. RB provides a standardized way to quantify the error rates of these gates and\n",
    "to characterize the overall performance of a quantum processor.\n",
    "- Basic Idea: RB involves applying a sequence of random gate operations (also known as \"cliffords\") to a quantum\n",
    "state, followed by an inverse sequence of gates to return the state to its original form. The error accumulation\n",
    "during this process provides insight into the overall gate quality.\n",
    "- Randomized Operations (Clifford Gates):\n",
    "RB employs sequences of random Clifford gates, which are a well-defined set of quantum gates with known\n",
    "mathematical properties. Clifford gates are chosen because they are easily implementable and form a universal\n",
    "set, meaning they can be combined to approximate any quantum operation."
   ]
  },
  {
   "cell_type": "code",
   "execution_count": 1,
   "metadata": {
    "colab": {
     "base_uri": "https://localhost:8080/"
    },
    "id": "n7dfXUSiVxve",
    "outputId": "4e377d0d-4f14-42a1-d5fa-f585a38031ad"
   },
   "outputs": [
    {
     "name": "stdout",
     "output_type": "stream",
     "text": [
      "\u001b[33mDEPRECATION: Loading egg at /opt/anaconda3/lib/python3.11/site-packages/ibapi-10.30.1-py3.11.egg is deprecated. pip 24.3 will enforce this behaviour change. A possible replacement is to use pip for package installation. Discussion can be found at https://github.com/pypa/pip/issues/12330\u001b[0m\u001b[33m\n",
      "\u001b[0mRequirement already satisfied: qiskit in /opt/anaconda3/lib/python3.11/site-packages (1.2.1)\n",
      "Requirement already satisfied: rustworkx>=0.15.0 in /opt/anaconda3/lib/python3.11/site-packages (from qiskit) (0.15.1)\n",
      "Requirement already satisfied: numpy<3,>=1.17 in /opt/anaconda3/lib/python3.11/site-packages (from qiskit) (1.26.4)\n",
      "Requirement already satisfied: scipy>=1.5 in /opt/anaconda3/lib/python3.11/site-packages (from qiskit) (1.11.4)\n",
      "Requirement already satisfied: sympy>=1.3 in /opt/anaconda3/lib/python3.11/site-packages (from qiskit) (1.12)\n",
      "Requirement already satisfied: dill>=0.3 in /opt/anaconda3/lib/python3.11/site-packages (from qiskit) (0.3.7)\n",
      "Requirement already satisfied: python-dateutil>=2.8.0 in /opt/anaconda3/lib/python3.11/site-packages (from qiskit) (2.8.2)\n",
      "Requirement already satisfied: stevedore>=3.0.0 in /opt/anaconda3/lib/python3.11/site-packages (from qiskit) (5.3.0)\n",
      "Requirement already satisfied: typing-extensions in /opt/anaconda3/lib/python3.11/site-packages (from qiskit) (4.9.0)\n",
      "Requirement already satisfied: symengine>=0.11 in /opt/anaconda3/lib/python3.11/site-packages (from qiskit) (0.11.0)\n",
      "Requirement already satisfied: six>=1.5 in /opt/anaconda3/lib/python3.11/site-packages (from python-dateutil>=2.8.0->qiskit) (1.16.0)\n",
      "Requirement already satisfied: pbr>=2.0.0 in /opt/anaconda3/lib/python3.11/site-packages (from stevedore>=3.0.0->qiskit) (6.1.0)\n",
      "Requirement already satisfied: mpmath>=0.19 in /opt/anaconda3/lib/python3.11/site-packages (from sympy>=1.3->qiskit) (1.3.0)\n",
      "\n",
      "\u001b[1m[\u001b[0m\u001b[34;49mnotice\u001b[0m\u001b[1;39;49m]\u001b[0m\u001b[39;49m A new release of pip is available: \u001b[0m\u001b[31;49m24.2\u001b[0m\u001b[39;49m -> \u001b[0m\u001b[32;49m24.3.1\u001b[0m\n",
      "\u001b[1m[\u001b[0m\u001b[34;49mnotice\u001b[0m\u001b[1;39;49m]\u001b[0m\u001b[39;49m To update, run: \u001b[0m\u001b[32;49mpip install --upgrade pip\u001b[0m\n"
     ]
    }
   ],
   "source": [
    "!pip install qiskit"
   ]
  },
  {
   "cell_type": "code",
   "execution_count": 2,
   "metadata": {
    "colab": {
     "base_uri": "https://localhost:8080/"
    },
    "id": "IE3uSKdHWQ4B",
    "outputId": "0ddd17a0-56a9-4dbd-cfa7-91b5917edf1e"
   },
   "outputs": [
    {
     "name": "stdout",
     "output_type": "stream",
     "text": [
      "\u001b[33mDEPRECATION: Loading egg at /opt/anaconda3/lib/python3.11/site-packages/ibapi-10.30.1-py3.11.egg is deprecated. pip 24.3 will enforce this behaviour change. A possible replacement is to use pip for package installation. Discussion can be found at https://github.com/pypa/pip/issues/12330\u001b[0m\u001b[33m\n",
      "\u001b[0mRequirement already satisfied: qiskit-aer in /opt/anaconda3/lib/python3.11/site-packages (0.15.1)\n",
      "Requirement already satisfied: qiskit>=1.1.0 in /opt/anaconda3/lib/python3.11/site-packages (from qiskit-aer) (1.2.1)\n",
      "Requirement already satisfied: numpy>=1.16.3 in /opt/anaconda3/lib/python3.11/site-packages (from qiskit-aer) (1.26.4)\n",
      "Requirement already satisfied: scipy>=1.0 in /opt/anaconda3/lib/python3.11/site-packages (from qiskit-aer) (1.11.4)\n",
      "Requirement already satisfied: psutil>=5 in /opt/anaconda3/lib/python3.11/site-packages (from qiskit-aer) (5.9.0)\n",
      "Requirement already satisfied: rustworkx>=0.15.0 in /opt/anaconda3/lib/python3.11/site-packages (from qiskit>=1.1.0->qiskit-aer) (0.15.1)\n",
      "Requirement already satisfied: sympy>=1.3 in /opt/anaconda3/lib/python3.11/site-packages (from qiskit>=1.1.0->qiskit-aer) (1.12)\n",
      "Requirement already satisfied: dill>=0.3 in /opt/anaconda3/lib/python3.11/site-packages (from qiskit>=1.1.0->qiskit-aer) (0.3.7)\n",
      "Requirement already satisfied: python-dateutil>=2.8.0 in /opt/anaconda3/lib/python3.11/site-packages (from qiskit>=1.1.0->qiskit-aer) (2.8.2)\n",
      "Requirement already satisfied: stevedore>=3.0.0 in /opt/anaconda3/lib/python3.11/site-packages (from qiskit>=1.1.0->qiskit-aer) (5.3.0)\n",
      "Requirement already satisfied: typing-extensions in /opt/anaconda3/lib/python3.11/site-packages (from qiskit>=1.1.0->qiskit-aer) (4.9.0)\n",
      "Requirement already satisfied: symengine>=0.11 in /opt/anaconda3/lib/python3.11/site-packages (from qiskit>=1.1.0->qiskit-aer) (0.11.0)\n",
      "Requirement already satisfied: six>=1.5 in /opt/anaconda3/lib/python3.11/site-packages (from python-dateutil>=2.8.0->qiskit>=1.1.0->qiskit-aer) (1.16.0)\n",
      "Requirement already satisfied: pbr>=2.0.0 in /opt/anaconda3/lib/python3.11/site-packages (from stevedore>=3.0.0->qiskit>=1.1.0->qiskit-aer) (6.1.0)\n",
      "Requirement already satisfied: mpmath>=0.19 in /opt/anaconda3/lib/python3.11/site-packages (from sympy>=1.3->qiskit>=1.1.0->qiskit-aer) (1.3.0)\n",
      "\n",
      "\u001b[1m[\u001b[0m\u001b[34;49mnotice\u001b[0m\u001b[1;39;49m]\u001b[0m\u001b[39;49m A new release of pip is available: \u001b[0m\u001b[31;49m24.2\u001b[0m\u001b[39;49m -> \u001b[0m\u001b[32;49m24.3.1\u001b[0m\n",
      "\u001b[1m[\u001b[0m\u001b[34;49mnotice\u001b[0m\u001b[1;39;49m]\u001b[0m\u001b[39;49m To update, run: \u001b[0m\u001b[32;49mpip install --upgrade pip\u001b[0m\n",
      "Note: you may need to restart the kernel to use updated packages.\n"
     ]
    }
   ],
   "source": [
    "pip install qiskit-aer"
   ]
  },
  {
   "cell_type": "code",
   "execution_count": 3,
   "metadata": {
    "id": "a0-qfy19VmRP"
   },
   "outputs": [],
   "source": [
    "import numpy as np\n",
    "from qiskit import QuantumCircuit\n",
    "from qiskit import transpile\n",
    "from qiskit_aer import Aer\n",
    "from qiskit.quantum_info import Statevector, state_fidelity"
   ]
  },
  {
   "cell_type": "code",
   "execution_count": 4,
   "metadata": {
    "id": "5urrMrknVqHK"
   },
   "outputs": [],
   "source": [
    "\n",
    "# Generate a random quantum circuit\n",
    "def generate_random_circuit(num_qubits, depth):\n",
    "    circuit = QuantumCircuit(num_qubits)\n",
    "    for _ in range(depth):\n",
    "        for qubit in range(num_qubits):\n",
    "            circuit.rx(np.random.uniform(0, 2 * np.pi), qubit)\n",
    "            circuit.ry(np.random.uniform(0, 2 * np.pi), qubit)\n",
    "            circuit.rz(np.random.uniform(0, 2 * np.pi), qubit)\n",
    "        for qubit in range(num_qubits - 1):\n",
    "            circuit.cz(qubit, qubit + 1)\n",
    "    return circuit"
   ]
  },
  {
   "cell_type": "code",
   "execution_count": 5,
   "metadata": {
    "colab": {
     "base_uri": "https://localhost:8080/"
    },
    "id": "3DE2mkXyVqAJ",
    "outputId": "ca871314-d963-49a4-950c-2f335ac49e25"
   },
   "outputs": [
    {
     "name": "stdout",
     "output_type": "stream",
     "text": [
      "[0.6163714915531966, 0.7158548447750991, 0.7022418097119681, 0.7116425701146474]\n"
     ]
    }
   ],
   "source": [
    "# Perform randomized benchmarking\n",
    "def randomized_benchmarking(num_qubits, depths, num_sequences, shots):\n",
    "    backend = Aer.get_backend('aer_simulator')  # AerSimulator backend\n",
    "    results = []\n",
    "    for depth in depths:\n",
    "        success_counts = 0\n",
    "        for _ in range(num_sequences):\n",
    "            # Generate a random circuit and its inverse\n",
    "            circuit = generate_random_circuit(num_qubits, depth)\n",
    "            inverse_circuit = circuit.inverse()\n",
    "\n",
    "            # Transpile the circuits for the backend\n",
    "            transpiled_circuit = transpile(circuit, backend)\n",
    "            transpiled_inverse_circuit = transpile(inverse_circuit, backend)\n",
    "\n",
    "            # Apply the circuit and obtain the final statevector\n",
    "            transpiled_circuit.save_statevector()  # Ensure statevector is saved\n",
    "            circuit_result = backend.run(transpiled_circuit).result()  # Run the transpiled circuit\n",
    "            final_statevector = Statevector(circuit_result.get_statevector())\n",
    "\n",
    "            # Apply the inverse circuit and obtain the final statevector\n",
    "            transpiled_inverse_circuit.save_statevector()  # Ensure statevector is saved\n",
    "            inverse_result = backend.run(transpiled_inverse_circuit).result()  # Run the transpiled inverse circuit\n",
    "            inverse_statevector = Statevector(inverse_result.get_statevector())\n",
    "\n",
    "            # Calculate the fidelity\n",
    "            fidelity = state_fidelity(final_statevector, inverse_statevector)\n",
    "            success_counts += shots * (1 - fidelity)\n",
    "\n",
    "        success_rate = success_counts / (num_sequences * shots)\n",
    "        results.append(success_rate)\n",
    "    return results\n",
    "\n",
    "# Example usage\n",
    "num_qubits = 2\n",
    "depths = [1, 2, 3, 4]\n",
    "num_sequences = 100\n",
    "shots = 1024\n",
    "\n",
    "results = randomized_benchmarking(num_qubits, depths, num_sequences, shots)\n",
    "print(results)"
   ]
  },
  {
   "cell_type": "code",
   "execution_count": null,
   "metadata": {
    "id": "AqWwaX78Whif"
   },
   "outputs": [],
   "source": []
  },
  {
   "cell_type": "code",
   "execution_count": null,
   "metadata": {},
   "outputs": [],
   "source": []
  }
 ],
 "metadata": {
  "colab": {
   "provenance": []
  },
  "kernelspec": {
   "display_name": "Python 3 (ipykernel)",
   "language": "python",
   "name": "python3"
  },
  "language_info": {
   "codemirror_mode": {
    "name": "ipython",
    "version": 3
   },
   "file_extension": ".py",
   "mimetype": "text/x-python",
   "name": "python",
   "nbconvert_exporter": "python",
   "pygments_lexer": "ipython3",
   "version": "3.11.7"
  }
 },
 "nbformat": 4,
 "nbformat_minor": 4
}
